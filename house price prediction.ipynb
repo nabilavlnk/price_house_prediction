{
 "cells": [
  {
   "cell_type": "code",
   "execution_count": 257,
   "id": "5c99ef63",
   "metadata": {},
   "outputs": [],
   "source": [
    "import pandas as pd\n",
    "import numpy as np\n",
    "import re\n",
    "import matplotlib.pyplot as plt\n",
    "from sklearn.preprocessing import MinMaxScaler\n",
    "from sklearn.model_selection import train_test_split"
   ]
  },
  {
   "cell_type": "markdown",
   "id": "9d995ab5",
   "metadata": {},
   "source": [
    "### Read Data"
   ]
  },
  {
   "cell_type": "code",
   "execution_count": 268,
   "id": "1e71e8d8",
   "metadata": {},
   "outputs": [
    {
     "data": {
      "text/html": [
       "<div>\n",
       "<style scoped>\n",
       "    .dataframe tbody tr th:only-of-type {\n",
       "        vertical-align: middle;\n",
       "    }\n",
       "\n",
       "    .dataframe tbody tr th {\n",
       "        vertical-align: top;\n",
       "    }\n",
       "\n",
       "    .dataframe thead th {\n",
       "        text-align: right;\n",
       "    }\n",
       "</style>\n",
       "<table border=\"1\" class=\"dataframe\">\n",
       "  <thead>\n",
       "    <tr style=\"text-align: right;\">\n",
       "      <th></th>\n",
       "      <th>Address</th>\n",
       "      <th>Price</th>\n",
       "      <th>Details</th>\n",
       "    </tr>\n",
       "  </thead>\n",
       "  <tbody>\n",
       "    <tr>\n",
       "      <th>0</th>\n",
       "      <td>Sleman, Sleman</td>\n",
       "      <td>Rp 689.500.000</td>\n",
       "      <td>2                                Kamar tidur  ...</td>\n",
       "    </tr>\n",
       "    <tr>\n",
       "      <th>1</th>\n",
       "      <td>Gamping, Sleman</td>\n",
       "      <td>Rp 700.000.000</td>\n",
       "      <td>2                                Kamar tidur  ...</td>\n",
       "    </tr>\n",
       "    <tr>\n",
       "      <th>2</th>\n",
       "      <td>Ngaglik, Sleman</td>\n",
       "      <td>Rp 689.500.000</td>\n",
       "      <td>2                                Kamar tidur  ...</td>\n",
       "    </tr>\n",
       "    <tr>\n",
       "      <th>3</th>\n",
       "      <td>Bantul, Bantul</td>\n",
       "      <td>Rp 875.000.000</td>\n",
       "      <td>3                                Kamar tidur  ...</td>\n",
       "    </tr>\n",
       "    <tr>\n",
       "      <th>4</th>\n",
       "      <td>Maguwoharjo, Sleman</td>\n",
       "      <td>Rp 270.000.000</td>\n",
       "      <td>2                                Kamar tidur  ...</td>\n",
       "    </tr>\n",
       "  </tbody>\n",
       "</table>\n",
       "</div>"
      ],
      "text/plain": [
       "               Address           Price  \\\n",
       "0       Sleman, Sleman  Rp 689.500.000   \n",
       "1      Gamping, Sleman  Rp 700.000.000   \n",
       "2      Ngaglik, Sleman  Rp 689.500.000   \n",
       "3       Bantul, Bantul  Rp 875.000.000   \n",
       "4  Maguwoharjo, Sleman  Rp 270.000.000   \n",
       "\n",
       "                                             Details  \n",
       "0  2                                Kamar tidur  ...  \n",
       "1  2                                Kamar tidur  ...  \n",
       "2  2                                Kamar tidur  ...  \n",
       "3  3                                Kamar tidur  ...  \n",
       "4  2                                Kamar tidur  ...  "
      ]
     },
     "execution_count": 268,
     "metadata": {},
     "output_type": "execute_result"
    }
   ],
   "source": [
    "df = pd.read_csv(\"scrape_residents.csv\", encoding = \"ISO-8859-1\")\n",
    "df.head()"
   ]
  },
  {
   "cell_type": "code",
   "execution_count": 269,
   "id": "b71414da",
   "metadata": {},
   "outputs": [
    {
     "name": "stdout",
     "output_type": "stream",
     "text": [
      "<class 'pandas.core.frame.DataFrame'>\n",
      "RangeIndex: 236 entries, 0 to 235\n",
      "Data columns (total 3 columns):\n",
      " #   Column   Non-Null Count  Dtype \n",
      "---  ------   --------------  ----- \n",
      " 0   Address  236 non-null    object\n",
      " 1   Price    236 non-null    object\n",
      " 2   Details  236 non-null    object\n",
      "dtypes: object(3)\n",
      "memory usage: 5.7+ KB\n"
     ]
    }
   ],
   "source": [
    "df.info()"
   ]
  },
  {
   "cell_type": "markdown",
   "id": "360a0e46",
   "metadata": {},
   "source": [
    "### Preprocessing"
   ]
  },
  {
   "cell_type": "code",
   "execution_count": 270,
   "id": "ba892841",
   "metadata": {},
   "outputs": [
    {
     "data": {
      "text/html": [
       "<div>\n",
       "<style scoped>\n",
       "    .dataframe tbody tr th:only-of-type {\n",
       "        vertical-align: middle;\n",
       "    }\n",
       "\n",
       "    .dataframe tbody tr th {\n",
       "        vertical-align: top;\n",
       "    }\n",
       "\n",
       "    .dataframe thead th {\n",
       "        text-align: right;\n",
       "    }\n",
       "</style>\n",
       "<table border=\"1\" class=\"dataframe\">\n",
       "  <thead>\n",
       "    <tr style=\"text-align: right;\">\n",
       "      <th></th>\n",
       "      <th>Price</th>\n",
       "      <th>Details</th>\n",
       "      <th>Kab</th>\n",
       "      <th>Kota</th>\n",
       "    </tr>\n",
       "  </thead>\n",
       "  <tbody>\n",
       "    <tr>\n",
       "      <th>0</th>\n",
       "      <td>Rp 689.500.000</td>\n",
       "      <td>2                                Kamar tidur  ...</td>\n",
       "      <td>Sleman</td>\n",
       "      <td>Sleman</td>\n",
       "    </tr>\n",
       "    <tr>\n",
       "      <th>1</th>\n",
       "      <td>Rp 700.000.000</td>\n",
       "      <td>2                                Kamar tidur  ...</td>\n",
       "      <td>Gamping</td>\n",
       "      <td>Sleman</td>\n",
       "    </tr>\n",
       "    <tr>\n",
       "      <th>2</th>\n",
       "      <td>Rp 689.500.000</td>\n",
       "      <td>2                                Kamar tidur  ...</td>\n",
       "      <td>Ngaglik</td>\n",
       "      <td>Sleman</td>\n",
       "    </tr>\n",
       "    <tr>\n",
       "      <th>3</th>\n",
       "      <td>Rp 875.000.000</td>\n",
       "      <td>3                                Kamar tidur  ...</td>\n",
       "      <td>Bantul</td>\n",
       "      <td>Bantul</td>\n",
       "    </tr>\n",
       "    <tr>\n",
       "      <th>4</th>\n",
       "      <td>Rp 270.000.000</td>\n",
       "      <td>2                                Kamar tidur  ...</td>\n",
       "      <td>Maguwoharjo</td>\n",
       "      <td>Sleman</td>\n",
       "    </tr>\n",
       "  </tbody>\n",
       "</table>\n",
       "</div>"
      ],
      "text/plain": [
       "            Price                                            Details  \\\n",
       "0  Rp 689.500.000  2                                Kamar tidur  ...   \n",
       "1  Rp 700.000.000  2                                Kamar tidur  ...   \n",
       "2  Rp 689.500.000  2                                Kamar tidur  ...   \n",
       "3  Rp 875.000.000  3                                Kamar tidur  ...   \n",
       "4  Rp 270.000.000  2                                Kamar tidur  ...   \n",
       "\n",
       "           Kab     Kota  \n",
       "0       Sleman   Sleman  \n",
       "1      Gamping   Sleman  \n",
       "2      Ngaglik   Sleman  \n",
       "3       Bantul   Bantul  \n",
       "4  Maguwoharjo   Sleman  "
      ]
     },
     "execution_count": 270,
     "metadata": {},
     "output_type": "execute_result"
    }
   ],
   "source": [
    "# Split address by comma\n",
    "df[['Kab', 'Kota']] = df['Address'].str.split(r\",\", expand=True)\n",
    "df = df.drop(['Address'], axis = 1)\n",
    "df.head()"
   ]
  },
  {
   "cell_type": "code",
   "execution_count": 271,
   "id": "adee3e15",
   "metadata": {},
   "outputs": [],
   "source": [
    "def cleaning(text):\n",
    "    text = re.sub(r\"[.,?]\", \" \", text) # Remove titik\n",
    "    text = re.sub(r\"[Rp, m², Lahan]\", \" \", text) # Remove 'Rp'\n",
    "    text = re.sub(r\"\\s+\", \"\", text) # Remove whitespace\n",
    "    return text"
   ]
  },
  {
   "cell_type": "code",
   "execution_count": 272,
   "id": "a71f8829",
   "metadata": {},
   "outputs": [
    {
     "data": {
      "text/html": [
       "<div>\n",
       "<style scoped>\n",
       "    .dataframe tbody tr th:only-of-type {\n",
       "        vertical-align: middle;\n",
       "    }\n",
       "\n",
       "    .dataframe tbody tr th {\n",
       "        vertical-align: top;\n",
       "    }\n",
       "\n",
       "    .dataframe thead th {\n",
       "        text-align: right;\n",
       "    }\n",
       "</style>\n",
       "<table border=\"1\" class=\"dataframe\">\n",
       "  <thead>\n",
       "    <tr style=\"text-align: right;\">\n",
       "      <th></th>\n",
       "      <th>Price</th>\n",
       "      <th>Details</th>\n",
       "      <th>Kab</th>\n",
       "      <th>Kota</th>\n",
       "    </tr>\n",
       "  </thead>\n",
       "  <tbody>\n",
       "    <tr>\n",
       "      <th>0</th>\n",
       "      <td>689500000</td>\n",
       "      <td>2Krtidur45Bgu93</td>\n",
       "      <td>Sleman</td>\n",
       "      <td>Sleman</td>\n",
       "    </tr>\n",
       "    <tr>\n",
       "      <th>1</th>\n",
       "      <td>700000000</td>\n",
       "      <td>2Krtidur76Bgu108</td>\n",
       "      <td>Gamping</td>\n",
       "      <td>Sleman</td>\n",
       "    </tr>\n",
       "    <tr>\n",
       "      <th>2</th>\n",
       "      <td>689500000</td>\n",
       "      <td>2Krtidur45Bgu93</td>\n",
       "      <td>Ngaglik</td>\n",
       "      <td>Sleman</td>\n",
       "    </tr>\n",
       "    <tr>\n",
       "      <th>3</th>\n",
       "      <td>875000000</td>\n",
       "      <td>3Krtidur82Bgu112</td>\n",
       "      <td>Bantul</td>\n",
       "      <td>Bantul</td>\n",
       "    </tr>\n",
       "    <tr>\n",
       "      <th>4</th>\n",
       "      <td>270000000</td>\n",
       "      <td>2Krtidur78Bgu94</td>\n",
       "      <td>Maguwoharjo</td>\n",
       "      <td>Sleman</td>\n",
       "    </tr>\n",
       "  </tbody>\n",
       "</table>\n",
       "</div>"
      ],
      "text/plain": [
       "       Price           Details          Kab     Kota\n",
       "0  689500000   2Krtidur45Bgu93       Sleman   Sleman\n",
       "1  700000000  2Krtidur76Bgu108      Gamping   Sleman\n",
       "2  689500000   2Krtidur45Bgu93      Ngaglik   Sleman\n",
       "3  875000000  3Krtidur82Bgu112       Bantul   Bantul\n",
       "4  270000000   2Krtidur78Bgu94  Maguwoharjo   Sleman"
      ]
     },
     "execution_count": 272,
     "metadata": {},
     "output_type": "execute_result"
    }
   ],
   "source": [
    "# Remove character from column price and details\n",
    "df['Price'] = df['Price'].apply(cleaning)\n",
    "df['Details'] = df['Details'].apply(cleaning)\n",
    "df.head()"
   ]
  },
  {
   "cell_type": "code",
   "execution_count": 273,
   "id": "03fefb1a",
   "metadata": {},
   "outputs": [
    {
     "data": {
      "text/html": [
       "<div>\n",
       "<style scoped>\n",
       "    .dataframe tbody tr th:only-of-type {\n",
       "        vertical-align: middle;\n",
       "    }\n",
       "\n",
       "    .dataframe tbody tr th {\n",
       "        vertical-align: top;\n",
       "    }\n",
       "\n",
       "    .dataframe thead th {\n",
       "        text-align: right;\n",
       "    }\n",
       "</style>\n",
       "<table border=\"1\" class=\"dataframe\">\n",
       "  <thead>\n",
       "    <tr style=\"text-align: right;\">\n",
       "      <th></th>\n",
       "      <th>Price</th>\n",
       "      <th>Kab</th>\n",
       "      <th>Kota</th>\n",
       "      <th>KT</th>\n",
       "      <th>Bangunan</th>\n",
       "      <th>Lahan</th>\n",
       "    </tr>\n",
       "  </thead>\n",
       "  <tbody>\n",
       "    <tr>\n",
       "      <th>0</th>\n",
       "      <td>689500000</td>\n",
       "      <td>Sleman</td>\n",
       "      <td>Sleman</td>\n",
       "      <td>2</td>\n",
       "      <td>45</td>\n",
       "      <td>93</td>\n",
       "    </tr>\n",
       "    <tr>\n",
       "      <th>1</th>\n",
       "      <td>700000000</td>\n",
       "      <td>Gamping</td>\n",
       "      <td>Sleman</td>\n",
       "      <td>2</td>\n",
       "      <td>76</td>\n",
       "      <td>108</td>\n",
       "    </tr>\n",
       "    <tr>\n",
       "      <th>2</th>\n",
       "      <td>689500000</td>\n",
       "      <td>Ngaglik</td>\n",
       "      <td>Sleman</td>\n",
       "      <td>2</td>\n",
       "      <td>45</td>\n",
       "      <td>93</td>\n",
       "    </tr>\n",
       "    <tr>\n",
       "      <th>3</th>\n",
       "      <td>875000000</td>\n",
       "      <td>Bantul</td>\n",
       "      <td>Bantul</td>\n",
       "      <td>3</td>\n",
       "      <td>82</td>\n",
       "      <td>112</td>\n",
       "    </tr>\n",
       "    <tr>\n",
       "      <th>4</th>\n",
       "      <td>270000000</td>\n",
       "      <td>Maguwoharjo</td>\n",
       "      <td>Sleman</td>\n",
       "      <td>2</td>\n",
       "      <td>78</td>\n",
       "      <td>94</td>\n",
       "    </tr>\n",
       "  </tbody>\n",
       "</table>\n",
       "</div>"
      ],
      "text/plain": [
       "       Price          Kab     Kota KT Bangunan Lahan\n",
       "0  689500000       Sleman   Sleman  2       45    93\n",
       "1  700000000      Gamping   Sleman  2       76   108\n",
       "2  689500000      Ngaglik   Sleman  2       45    93\n",
       "3  875000000       Bantul   Bantul  3       82   112\n",
       "4  270000000  Maguwoharjo   Sleman  2       78    94"
      ]
     },
     "execution_count": 273,
     "metadata": {},
     "output_type": "execute_result"
    }
   ],
   "source": [
    "# Split details\n",
    "df[['KT', 'Bangunan', 'Lahan']] = df['Details'].str.split(r\"Krtidur|Bgu\", expand=True)\n",
    "df = df.drop(['Details'], axis = 1)\n",
    "df.head()"
   ]
  },
  {
   "cell_type": "markdown",
   "id": "0f7e8f4d",
   "metadata": {},
   "source": [
    "### Handling Missing Value"
   ]
  },
  {
   "cell_type": "code",
   "execution_count": 274,
   "id": "574f6dd1",
   "metadata": {},
   "outputs": [
    {
     "data": {
      "text/plain": [
       "Price        0\n",
       "Kab          0\n",
       "Kota        16\n",
       "KT           0\n",
       "Bangunan     0\n",
       "Lahan        0\n",
       "dtype: int64"
      ]
     },
     "execution_count": 274,
     "metadata": {},
     "output_type": "execute_result"
    }
   ],
   "source": [
    "df.isnull().sum()"
   ]
  },
  {
   "cell_type": "code",
   "execution_count": 275,
   "id": "09a36ea5",
   "metadata": {},
   "outputs": [
    {
     "data": {
      "text/plain": [
       "Price       0\n",
       "Kab         0\n",
       "Kota        0\n",
       "KT          0\n",
       "Bangunan    0\n",
       "Lahan       0\n",
       "dtype: int64"
      ]
     },
     "execution_count": 275,
     "metadata": {},
     "output_type": "execute_result"
    }
   ],
   "source": [
    "df['Kota'] = df['Kota'].fillna('Kota')\n",
    "df.isnull().sum()"
   ]
  },
  {
   "cell_type": "markdown",
   "id": "b02f60c7",
   "metadata": {},
   "source": [
    "### MinMaxScaler"
   ]
  },
  {
   "cell_type": "markdown",
   "id": "5840a7e8",
   "metadata": {},
   "source": [
    "StandardScaler is useful for the features that follow a Normal distribution. Therefore, it makes mean = 0 and scales the data to unit variance. MinMaxScaler may be used when the upper and lower boundaries are well known from domain knowledge."
   ]
  },
  {
   "cell_type": "code",
   "execution_count": 276,
   "id": "894de4cb",
   "metadata": {},
   "outputs": [
    {
     "data": {
      "text/html": [
       "<div>\n",
       "<style scoped>\n",
       "    .dataframe tbody tr th:only-of-type {\n",
       "        vertical-align: middle;\n",
       "    }\n",
       "\n",
       "    .dataframe tbody tr th {\n",
       "        vertical-align: top;\n",
       "    }\n",
       "\n",
       "    .dataframe thead th {\n",
       "        text-align: right;\n",
       "    }\n",
       "</style>\n",
       "<table border=\"1\" class=\"dataframe\">\n",
       "  <thead>\n",
       "    <tr style=\"text-align: right;\">\n",
       "      <th></th>\n",
       "      <th>KT</th>\n",
       "      <th>Bangunan</th>\n",
       "      <th>Lahan</th>\n",
       "    </tr>\n",
       "  </thead>\n",
       "  <tbody>\n",
       "    <tr>\n",
       "      <th>0</th>\n",
       "      <td>2</td>\n",
       "      <td>45</td>\n",
       "      <td>93</td>\n",
       "    </tr>\n",
       "    <tr>\n",
       "      <th>1</th>\n",
       "      <td>2</td>\n",
       "      <td>76</td>\n",
       "      <td>108</td>\n",
       "    </tr>\n",
       "    <tr>\n",
       "      <th>2</th>\n",
       "      <td>2</td>\n",
       "      <td>45</td>\n",
       "      <td>93</td>\n",
       "    </tr>\n",
       "    <tr>\n",
       "      <th>3</th>\n",
       "      <td>3</td>\n",
       "      <td>82</td>\n",
       "      <td>112</td>\n",
       "    </tr>\n",
       "    <tr>\n",
       "      <th>4</th>\n",
       "      <td>2</td>\n",
       "      <td>78</td>\n",
       "      <td>94</td>\n",
       "    </tr>\n",
       "    <tr>\n",
       "      <th>...</th>\n",
       "      <td>...</td>\n",
       "      <td>...</td>\n",
       "      <td>...</td>\n",
       "    </tr>\n",
       "    <tr>\n",
       "      <th>231</th>\n",
       "      <td>2</td>\n",
       "      <td>45</td>\n",
       "      <td>94</td>\n",
       "    </tr>\n",
       "    <tr>\n",
       "      <th>232</th>\n",
       "      <td>2</td>\n",
       "      <td>36</td>\n",
       "      <td>113</td>\n",
       "    </tr>\n",
       "    <tr>\n",
       "      <th>233</th>\n",
       "      <td>2</td>\n",
       "      <td>36</td>\n",
       "      <td>114</td>\n",
       "    </tr>\n",
       "    <tr>\n",
       "      <th>234</th>\n",
       "      <td>3</td>\n",
       "      <td>60</td>\n",
       "      <td>90</td>\n",
       "    </tr>\n",
       "    <tr>\n",
       "      <th>235</th>\n",
       "      <td>2</td>\n",
       "      <td>45</td>\n",
       "      <td>75</td>\n",
       "    </tr>\n",
       "  </tbody>\n",
       "</table>\n",
       "<p>236 rows × 3 columns</p>\n",
       "</div>"
      ],
      "text/plain": [
       "    KT Bangunan Lahan\n",
       "0    2       45    93\n",
       "1    2       76   108\n",
       "2    2       45    93\n",
       "3    3       82   112\n",
       "4    2       78    94\n",
       "..  ..      ...   ...\n",
       "231  2       45    94\n",
       "232  2       36   113\n",
       "233  2       36   114\n",
       "234  3       60    90\n",
       "235  2       45    75\n",
       "\n",
       "[236 rows x 3 columns]"
      ]
     },
     "execution_count": 276,
     "metadata": {},
     "output_type": "execute_result"
    }
   ],
   "source": [
    "X = df.drop(['Kab','Kota', 'Price'], axis = 1 )\n",
    "X.head()"
   ]
  },
  {
   "cell_type": "code",
   "execution_count": 279,
   "id": "2aff90ac",
   "metadata": {},
   "outputs": [
    {
     "data": {
      "text/plain": [
       "0      689500000\n",
       "1      700000000\n",
       "2      689500000\n",
       "3      875000000\n",
       "4      270000000\n",
       "         ...    \n",
       "231    470000000\n",
       "232    390000000\n",
       "233    390000000\n",
       "234    375000000\n",
       "235    368000000\n",
       "Name: Price, Length: 236, dtype: object"
      ]
     },
     "execution_count": 279,
     "metadata": {},
     "output_type": "execute_result"
    }
   ],
   "source": [
    "y= df['Price']\n",
    "y.head()"
   ]
  },
  {
   "cell_type": "code",
   "execution_count": 282,
   "id": "daea9e54",
   "metadata": {},
   "outputs": [
    {
     "data": {
      "text/plain": [
       "array([[0.04166667, 0.0347667 , 0.03416264],\n",
       "       [0.04166667, 0.063129  , 0.03973264],\n",
       "       [0.04166667, 0.0347667 , 0.03416264],\n",
       "       [0.08333333, 0.06861848, 0.04121797],\n",
       "       [0.04166667, 0.06495883, 0.03453398],\n",
       "       [0.04166667, 0.03934126, 0.03713331],\n",
       "       [0.29166667, 0.16925892, 0.02933531],\n",
       "       [0.04166667, 0.021043  , 0.02302265],\n",
       "       [0.04166667, 0.03019213, 0.02190865],\n",
       "       [0.04166667, 0.02653248, 0.01819532],\n",
       "       [0.08333333, 0.11802379, 0.03787597],\n",
       "       [0.04166667, 0.02653248, 0.02636465],\n",
       "       [0.04166667, 0.02653248, 0.02599332],\n",
       "       [0.33333333, 0.14913083, 0.0471593 ],\n",
       "       [0.04166667, 0.02653248, 0.02190865],\n",
       "       [0.08333333, 0.063129  , 0.02933531],\n",
       "       [0.125     , 0.1820677 , 0.07760861],\n",
       "       [0.04166667, 0.05306496, 0.02190865],\n",
       "       [0.08333333, 0.07593779, 0.04084664],\n",
       "       [0.04166667, 0.02653248, 0.01819532],\n",
       "       [0.08333333, 0.04849039, 0.03676198],\n",
       "       [0.08333333, 0.0347667 , 0.03193465],\n",
       "       [0.04166667, 0.03202196, 0.02190865],\n",
       "       [0.04166667, 0.02287283, 0.02487932],\n",
       "       [0.08333333, 0.13449222, 0.08132195],\n",
       "       [0.04166667, 0.04849039, 0.03676198],\n",
       "       [0.08333333, 0.08051235, 0.03676198],\n",
       "       [0.04166667, 0.04391583, 0.04121797],\n",
       "       [1.        , 0.81701738, 0.26364649],\n",
       "       [0.08333333, 0.1399817 , 0.03676198],\n",
       "       [0.375     , 1.        , 0.39806907],\n",
       "       [0.04166667, 0.02653248, 0.0449313 ],\n",
       "       [0.08333333, 0.05763952, 0.03676198],\n",
       "       [0.08333333, 0.05763952, 0.03861864],\n",
       "       [0.04166667, 0.04391583, 0.0427033 ],\n",
       "       [0.33333333, 0.63403477, 0.24099517],\n",
       "       [0.08333333, 0.04117109, 0.03082065],\n",
       "       [0.16666667, 0.48032937, 0.14779057],\n",
       "       [0.125     , 0.13449222, 0.03713331],\n",
       "       [0.125     , 0.22232388, 0.11251392],\n",
       "       [0.08333333, 0.09423605, 0.0527293 ],\n",
       "       [0.08333333, 0.07410796, 0.        ],\n",
       "       [0.375     , 0.17657823, 0.27478648],\n",
       "       [0.08333333, 0.        , 0.03304864],\n",
       "       [0.125     , 0.1399817 , 0.0482733 ],\n",
       "       [0.08333333, 0.07868253, 0.03341998],\n",
       "       [0.08333333, 0.06678866, 0.04790197],\n",
       "       [0.16666667, 0.22232388, 0.34942443],\n",
       "       [0.08333333, 0.13083257, 0.12922391],\n",
       "       [0.16666667, 0.09423605, 0.07203862],\n",
       "       [0.04166667, 0.0347667 , 0.03416264],\n",
       "       [0.08333333, 0.10064044, 0.04975863],\n",
       "       [0.08333333, 0.03751144, 0.14964723],\n",
       "       [0.04166667, 0.03019213, 0.04047531],\n",
       "       [0.04166667, 0.02653248, 0.03527664],\n",
       "       [0.04166667, 0.03934126, 0.03861864],\n",
       "       [0.08333333, 0.05306496, 0.03973264],\n",
       "       [0.04166667, 0.03934126, 0.03304864],\n",
       "       [0.125     , 0.35590119, 0.13479391],\n",
       "       [0.08333333, 0.06495883, 0.02933531],\n",
       "       [0.08333333, 0.04849039, 0.05978463],\n",
       "       [0.08333333, 0.05763952, 0.03676198],\n",
       "       [0.04166667, 0.04757548, 0.0438173 ],\n",
       "       [0.04166667, 0.03019213, 0.03156331],\n",
       "       [0.04166667, 0.03934126, 0.04418864],\n",
       "       [0.08333333, 0.05032022, 0.04418864],\n",
       "       [0.04166667, 0.04483074, 0.02487932],\n",
       "       [0.79166667, 0.45105215, 0.15930189],\n",
       "       [0.08333333, 0.08508692, 0.0505013 ],\n",
       "       [0.125     , 0.14913083, 0.0538433 ],\n",
       "       [0.08333333, 0.06678866, 0.03490531],\n",
       "       [0.08333333, 0.063129  , 0.03193465],\n",
       "       [0.04166667, 0.04117109, 0.03379131],\n",
       "       [0.08333333, 0.05946935, 0.02933531],\n",
       "       [0.04166667, 0.02653248, 0.03304864],\n",
       "       [0.125     , 0.13083257, 0.04418864],\n",
       "       [0.08333333, 0.13815188, 0.0516153 ],\n",
       "       [0.08333333, 0.05946935, 0.02933531],\n",
       "       [0.125     , 0.06861848, 0.03230598],\n",
       "       [0.08333333, 0.06495883, 0.03007798],\n",
       "       [0.04166667, 0.04483074, 0.03861864],\n",
       "       [0.08333333, 0.07227813, 0.0449313 ],\n",
       "       [0.08333333, 0.06678866, 0.03490531],\n",
       "       [0.04166667, 0.03934126, 0.04121797],\n",
       "       [0.08333333, 0.07227813, 0.0449313 ],\n",
       "       [0.08333333, 0.07593779, 0.03676198],\n",
       "       [0.04166667, 0.04483074, 0.06015596],\n",
       "       [0.125     , 0.09423605, 0.05235797],\n",
       "       [0.08333333, 0.07593779, 0.04975863],\n",
       "       [0.08333333, 0.06221409, 0.06015596],\n",
       "       [0.125     , 0.07410796, 0.0560713 ],\n",
       "       [0.08333333, 0.11253431, 0.1515039 ],\n",
       "       [0.08333333, 0.06678866, 0.04418864],\n",
       "       [0.08333333, 0.03751144, 0.03861864],\n",
       "       [0.08333333, 0.03934126, 0.02562198],\n",
       "       [0.04166667, 0.03934126, 0.03304864],\n",
       "       [0.16666667, 0.17657823, 0.12365392],\n",
       "       [0.375     , 0.1884721 , 0.08689194],\n",
       "       [0.04166667, 0.021043  , 0.02190865],\n",
       "       [0.08333333, 0.08051235, 0.04530264],\n",
       "       [0.20833333, 0.12808783, 0.06981062],\n",
       "       [0.08333333, 0.06495883, 0.02933531],\n",
       "       [0.04166667, 0.02653248, 0.02562198],\n",
       "       [0.04166667, 0.11253431, 0.04790197],\n",
       "       [0.04166667, 0.0347667 , 0.03973264],\n",
       "       [0.08333333, 0.12168344, 0.04307464],\n",
       "       [0.125     , 0.10338518, 0.05532863],\n",
       "       [0.08333333, 0.07593779, 0.03973264],\n",
       "       [0.04166667, 0.03019213, 0.06201263],\n",
       "       [0.08333333, 0.06678866, 0.03676198],\n",
       "       [0.08333333, 0.05032022, 0.04010397],\n",
       "       [0.08333333, 0.12168344, 0.04196064],\n",
       "       [0.08333333, 0.08508692, 0.03861864],\n",
       "       [0.04166667, 0.0347667 , 0.03676198],\n",
       "       [0.04166667, 0.0347667 , 0.03676198],\n",
       "       [0.04166667, 0.0347667 , 0.03676198],\n",
       "       [0.08333333, 0.08966148, 0.03676198],\n",
       "       [0.04166667, 0.02653248, 0.02562198],\n",
       "       [0.04166667, 0.02653248, 0.02562198],\n",
       "       [0.16666667, 0.16742909, 0.05829929],\n",
       "       [0.08333333, 0.04300091, 0.03601931],\n",
       "       [0.08333333, 0.06678866, 0.03416264],\n",
       "       [0.04166667, 0.02653248, 0.03713331],\n",
       "       [0.04166667, 0.03934126, 0.04344597],\n",
       "       [0.04166667, 0.02653248, 0.02599332],\n",
       "       [0.08333333, 0.042086  , 0.04084664],\n",
       "       [0.04166667, 0.0347667 , 0.03082065],\n",
       "       [0.16666667, 0.19487649, 0.06981062],\n",
       "       [0.04166667, 0.0347667 , 0.00408466],\n",
       "       [0.04166667, 0.02653248, 0.04530264],\n",
       "       [0.04166667, 0.02653248, 0.05310063],\n",
       "       [0.08333333, 0.06221409, 0.03527664],\n",
       "       [0.08333333, 0.05763952, 0.02190865],\n",
       "       [0.04166667, 0.0347667 , 0.04158931],\n",
       "       [0.04166667, 0.04117109, 0.02933531],\n",
       "       [0.04166667, 0.063129  , 0.02784998],\n",
       "       [0.04166667, 0.084172  , 0.02747865],\n",
       "       [0.08333333, 0.07136322, 0.04344597],\n",
       "       [0.08333333, 0.09881061, 0.04418864],\n",
       "       [0.04166667, 0.02653248, 0.04567397],\n",
       "       [0.125     , 0.12168344, 0.0516153 ],\n",
       "       [0.04166667, 0.02653248, 0.04121797],\n",
       "       [0.04166667, 0.0347667 , 0.02896398],\n",
       "       [0.04166667, 0.02653248, 0.03601931],\n",
       "       [0.04166667, 0.0347667 , 0.02747865],\n",
       "       [0.04166667, 0.03934126, 0.01819532],\n",
       "       [0.04166667, 0.04849039, 0.03861864],\n",
       "       [0.04166667, 0.0347667 , 0.0460453 ],\n",
       "       [0.08333333, 0.03019213, 0.04047531],\n",
       "       [0.08333333, 0.08325709, 0.08243595],\n",
       "       [0.08333333, 0.09881061, 0.0460453 ],\n",
       "       [0.16666667, 0.10338518, 0.04418864],\n",
       "       [0.20833333, 0.22232388, 0.12365392],\n",
       "       [0.125     , 0.12168344, 0.05087263],\n",
       "       [0.04166667, 0.0347667 , 0.03082065],\n",
       "       [0.08333333, 0.04849039, 0.03490531],\n",
       "       [0.08333333, 0.04849039, 0.0438173 ],\n",
       "       [0.04166667, 0.03751144, 0.03973264],\n",
       "       [0.125     , 0.17657823, 0.05087263],\n",
       "       [0.125     , 0.07593779, 0.08874861],\n",
       "       [0.08333333, 0.06221409, 0.02562198],\n",
       "       [0.08333333, 0.06678866, 0.0460453 ],\n",
       "       [0.04166667, 0.0347667 , 0.03416264],\n",
       "       [0.04166667, 0.02653248, 0.04233197],\n",
       "       [0.08333333, 0.04391583, 0.03304864],\n",
       "       [0.16666667, 0.35956084, 0.24099517],\n",
       "       [0.125     , 0.17200366, 0.11734126],\n",
       "       [0.08333333, 0.06221409, 0.03564798],\n",
       "       [0.04166667, 0.02653248, 0.02636465],\n",
       "       [0.08333333, 0.08508692, 0.04530264],\n",
       "       [0.04166667, 0.0347667 , 0.02747865],\n",
       "       [0.08333333, 0.07136322, 0.04196064],\n",
       "       [0.        , 0.10338518, 0.07389528],\n",
       "       [0.04166667, 0.03202196, 0.03304864],\n",
       "       [0.04166667, 0.0347667 , 0.03341998],\n",
       "       [0.04166667, 0.02653248, 0.02859265],\n",
       "       [0.04166667, 0.02653248, 0.02784998],\n",
       "       [0.04166667, 0.02653248, 0.        ],\n",
       "       [0.08333333, 0.05763952, 0.03676198],\n",
       "       [0.08333333, 0.07044831, 1.        ],\n",
       "       [0.08333333, 0.07044831, 1.        ],\n",
       "       [0.08333333, 0.19670631, 0.05012997],\n",
       "       [0.04166667, 0.0347667 , 0.02747865],\n",
       "       [0.16666667, 0.24977127, 0.0560713 ],\n",
       "       [0.04166667, 0.02653248, 0.04084664],\n",
       "       [0.08333333, 0.05306496, 0.03082065],\n",
       "       [0.04166667, 0.02653248, 0.03861864],\n",
       "       [0.08333333, 0.04849039, 0.04047531],\n",
       "       [0.08333333, 0.15827996, 0.0460453 ],\n",
       "       [0.04166667, 0.03934126, 0.0460453 ],\n",
       "       [0.20833333, 0.22232388, 0.06312662],\n",
       "       [0.08333333, 0.05946935, 0.03973264],\n",
       "       [0.04166667, 0.0347667 , 0.0438173 ],\n",
       "       [0.04166667, 0.04117109, 0.02042332],\n",
       "       [0.04166667, 0.03019213, 0.02562198],\n",
       "       [0.04166667, 0.02653248, 0.03936131],\n",
       "       [0.04166667, 0.03659652, 0.03898997],\n",
       "       [0.04166667, 0.05489478, 0.03936131],\n",
       "       [0.04166667, 0.03659652, 0.03898997],\n",
       "       [0.125     , 0.15827996, 0.03676198],\n",
       "       [0.04166667, 0.03934126, 0.02747865],\n",
       "       [0.08333333, 0.04849039, 0.0427033 ],\n",
       "       [0.08333333, 0.08508692, 0.04418864],\n",
       "       [0.04166667, 0.0347667 , 0.02747865],\n",
       "       [0.04166667, 0.03934126, 0.03341998],\n",
       "       [0.04166667, 0.03019213, 0.03007798],\n",
       "       [0.08333333, 0.09423605, 0.03230598],\n",
       "       [0.16666667, 0.08508692, 0.0560713 ],\n",
       "       [0.08333333, 0.15827996, 0.08689194],\n",
       "       [0.08333333, 0.07593779, 0.03713331],\n",
       "       [0.04166667, 0.0347667 , 0.03230598],\n",
       "       [0.08333333, 0.06221409, 0.02562198],\n",
       "       [0.04166667, 0.03019213, 0.03861864],\n",
       "       [0.04166667, 0.03934126, 0.03676198],\n",
       "       [0.20833333, 0.12168344, 0.05867063],\n",
       "       [0.04166667, 0.05306496, 0.03713331],\n",
       "       [0.04166667, 0.0347667 , 0.02859265],\n",
       "       [0.04166667, 0.02744739, 0.03341998],\n",
       "       [0.08333333, 0.05763952, 0.03304864],\n",
       "       [0.04166667, 0.0347667 , 0.03416264],\n",
       "       [0.08333333, 0.04391583, 0.04975863],\n",
       "       [0.125     , 0.10338518, 0.        ],\n",
       "       [0.08333333, 0.08508692, 0.04455997],\n",
       "       [0.08333333, 0.09149131, 0.04641664],\n",
       "       [0.04166667, 0.02653248, 0.02636465],\n",
       "       [0.08333333, 0.06495883, 0.03676198],\n",
       "       [0.04166667, 0.0347667 , 0.03304864],\n",
       "       [0.125     , 0.11710887, 0.04975863],\n",
       "       [0.04166667, 0.05215005, 0.03267731],\n",
       "       [0.125     , 0.08508692, 0.04233197],\n",
       "       [0.25      , 0.35956084, 0.17044189],\n",
       "       [0.04166667, 0.0347667 , 0.03453398],\n",
       "       [0.04166667, 0.02653248, 0.04158931],\n",
       "       [0.04166667, 0.02653248, 0.04196064],\n",
       "       [0.08333333, 0.04849039, 0.03304864],\n",
       "       [0.04166667, 0.0347667 , 0.02747865]])"
      ]
     },
     "execution_count": 282,
     "metadata": {},
     "output_type": "execute_result"
    }
   ],
   "source": [
    "scaler = MinMaxScaler()\n",
    "X_scaled=scaler.fit_transform(X)\n",
    "X_scaled"
   ]
  },
  {
   "cell_type": "markdown",
   "id": "1da841c9",
   "metadata": {},
   "source": [
    "### Split Data"
   ]
  },
  {
   "cell_type": "code",
   "execution_count": 283,
   "id": "809284ec",
   "metadata": {},
   "outputs": [],
   "source": [
    "X_train,X_test, y_train,y_test=train_test_split(X_scaled, y,test_size=0.2, random_state=42)"
   ]
  },
  {
   "cell_type": "code",
   "execution_count": 284,
   "id": "03277269",
   "metadata": {},
   "outputs": [
    {
     "name": "stdout",
     "output_type": "stream",
     "text": [
      "Data train = 188\n",
      "Data test = 48\n"
     ]
    }
   ],
   "source": [
    "print(\"Data train =\", len(X_train))\n",
    "print(\"Data test =\", len(X_test))"
   ]
  },
  {
   "cell_type": "markdown",
   "id": "3cd4ee2d",
   "metadata": {},
   "source": [
    "### Random Forest"
   ]
  },
  {
   "cell_type": "markdown",
   "id": "f301d569",
   "metadata": {},
   "source": [
    "Random forest regression is used to solve a variety of business problems where the company needs to predict a continuous value: Predict future prices/costs."
   ]
  },
  {
   "cell_type": "code",
   "execution_count": 285,
   "id": "b669e4ec",
   "metadata": {},
   "outputs": [],
   "source": [
    "from sklearn.ensemble import RandomForestRegressor\n",
    "model = RandomForestRegressor(n_estimators=1000)\n",
    "\n",
    "# Training \n",
    "DT = model.fit(X_train, y_train)\n",
    "\n",
    "# Evaluation\n",
    "y_pred = DT.predict(X_test)"
   ]
  },
  {
   "cell_type": "code",
   "execution_count": 286,
   "id": "b73c14c3",
   "metadata": {},
   "outputs": [
    {
     "name": "stdout",
     "output_type": "stream",
     "text": [
      "Accuracy = 84.17710945225397\n"
     ]
    }
   ],
   "source": [
    "# Accuracy\n",
    "print(\"Accuracy =\", model.score(X_test, y_test)*100)"
   ]
  },
  {
   "cell_type": "markdown",
   "id": "206c8ea0",
   "metadata": {},
   "source": [
    "### Prediction"
   ]
  },
  {
   "cell_type": "code",
   "execution_count": 287,
   "id": "dd9e289e",
   "metadata": {},
   "outputs": [
    {
     "name": "stdout",
     "output_type": "stream",
     "text": [
      "[1.91349200e+09 2.34488300e+09 1.44735900e+09 2.36447867e+08\n",
      " 2.03610200e+09 9.78375000e+08 9.93794500e+08 5.85749250e+08\n",
      " 1.49021450e+09 7.45565110e+08 4.66992114e+08 4.64801500e+08\n",
      " 4.16923667e+08 1.33760320e+10 7.79004000e+08 7.20770500e+08\n",
      " 2.36447867e+08 8.81841000e+08 1.83153250e+09 1.96950350e+09\n",
      " 9.18982971e+08 1.49012000e+09 5.72883294e+08 6.52013828e+08\n",
      " 5.40721661e+08 5.23378500e+08 6.31076296e+08 3.99244250e+08\n",
      " 9.68850077e+08 9.93115077e+08 4.06787917e+08 3.70210757e+08\n",
      " 1.18664518e+09 2.14326350e+09 7.28021000e+08 9.44764181e+08\n",
      " 6.42215300e+09 1.97695350e+09 6.00858857e+08 8.03592962e+08\n",
      " 6.22572489e+08 1.07160990e+09 2.87239214e+08 1.07558527e+09\n",
      " 3.62466549e+08 5.58269120e+08 1.00206000e+09 3.23898150e+08]\n"
     ]
    }
   ],
   "source": [
    "# Making an prediction\n",
    "prediction = model.predict(X_test)\n",
    "print(prediction)"
   ]
  },
  {
   "cell_type": "code",
   "execution_count": 300,
   "id": "fd37d80a",
   "metadata": {},
   "outputs": [],
   "source": [
    "def cek(x, y, z):\n",
    "    input(\"Masukkan jumlah Kamar Tidur =\", x)\n",
    "    input(\"Masukkan Luas Bangunan =\", y)\n",
    "    input(\"Masukkan Luas Lahan =\", z)"
   ]
  },
  {
   "cell_type": "code",
   "execution_count": 301,
   "id": "c82b65fc",
   "metadata": {},
   "outputs": [
    {
     "ename": "TypeError",
     "evalue": "Kernel.raw_input() takes from 1 to 2 positional arguments but 3 were given",
     "output_type": "error",
     "traceback": [
      "\u001b[1;31m---------------------------------------------------------------------------\u001b[0m",
      "\u001b[1;31mTypeError\u001b[0m                                 Traceback (most recent call last)",
      "Input \u001b[1;32mIn [301]\u001b[0m, in \u001b[0;36m<module>\u001b[1;34m\u001b[0m\n\u001b[1;32m----> 1\u001b[0m \u001b[43mcek\u001b[49m\u001b[43m(\u001b[49m\u001b[38;5;241;43m2\u001b[39;49m\u001b[43m,\u001b[49m\u001b[38;5;241;43m36\u001b[39;49m\u001b[43m,\u001b[49m\u001b[38;5;241;43m60\u001b[39;49m\u001b[43m)\u001b[49m\n",
      "Input \u001b[1;32mIn [300]\u001b[0m, in \u001b[0;36mcek\u001b[1;34m(x, y, z)\u001b[0m\n\u001b[0;32m      1\u001b[0m \u001b[38;5;28;01mdef\u001b[39;00m \u001b[38;5;21mcek\u001b[39m(x, y, z):\n\u001b[1;32m----> 2\u001b[0m     \u001b[38;5;28;43minput\u001b[39;49m\u001b[43m(\u001b[49m\u001b[38;5;124;43m\"\u001b[39;49m\u001b[38;5;124;43mMasukkan jumlah Kamar Tidur =\u001b[39;49m\u001b[38;5;124;43m\"\u001b[39;49m\u001b[43m,\u001b[49m\u001b[43m \u001b[49m\u001b[43mx\u001b[49m\u001b[43m)\u001b[49m\n\u001b[0;32m      3\u001b[0m     \u001b[38;5;28minput\u001b[39m(\u001b[38;5;124m\"\u001b[39m\u001b[38;5;124mMasukkan Luas Bangunan =\u001b[39m\u001b[38;5;124m\"\u001b[39m, y)\n\u001b[0;32m      4\u001b[0m     \u001b[38;5;28minput\u001b[39m(\u001b[38;5;124m\"\u001b[39m\u001b[38;5;124mMasukkan Luas Lahan =\u001b[39m\u001b[38;5;124m\"\u001b[39m, z)\n",
      "\u001b[1;31mTypeError\u001b[0m: Kernel.raw_input() takes from 1 to 2 positional arguments but 3 were given"
     ]
    }
   ],
   "source": [
    "cek(2,36,60)"
   ]
  },
  {
   "cell_type": "code",
   "execution_count": null,
   "id": "5199f75f",
   "metadata": {},
   "outputs": [],
   "source": []
  }
 ],
 "metadata": {
  "kernelspec": {
   "display_name": "Python 3 (ipykernel)",
   "language": "python",
   "name": "python3"
  },
  "language_info": {
   "codemirror_mode": {
    "name": "ipython",
    "version": 3
   },
   "file_extension": ".py",
   "mimetype": "text/x-python",
   "name": "python",
   "nbconvert_exporter": "python",
   "pygments_lexer": "ipython3",
   "version": "3.10.2"
  }
 },
 "nbformat": 4,
 "nbformat_minor": 5
}
