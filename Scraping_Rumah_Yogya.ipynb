{
 "cells": [
  {
   "cell_type": "markdown",
   "id": "bb196161",
   "metadata": {},
   "source": [
    "### Web Scraping\n",
    "Link : https://www.lamudi.co.id/yogyakarta/house/buy/?page=2"
   ]
  },
  {
   "cell_type": "code",
   "execution_count": 2,
   "id": "49505d0f",
   "metadata": {},
   "outputs": [],
   "source": [
    "# Import library\n",
    "import requests\n",
    "from bs4 import BeautifulSoup\n",
    "import csv"
   ]
  },
  {
   "cell_type": "markdown",
   "id": "86b83277",
   "metadata": {},
   "source": [
    "### Access Web"
   ]
  },
  {
   "cell_type": "code",
   "execution_count": 29,
   "id": "73f7360a",
   "metadata": {},
   "outputs": [],
   "source": [
    "key = 'house'\n",
    "url = 'https://www.lamudi.co.id/yogyakarta/{}/buy/?page='.format(key) # url web yang akan discrape\n",
    "headers = {\n",
    "    'user-agent' : 'Mozilla/5.0 (Windows NT 10.0; Win64; x64) AppleWebKit/537.36 (KHTML, like Gecko) Chrome/107.0.0.0 Safari/537.36'\n",
    "}"
   ]
  },
  {
   "cell_type": "code",
   "execution_count": 30,
   "id": "cdbe89d3",
   "metadata": {},
   "outputs": [
    {
     "name": "stdout",
     "output_type": "stream",
     "text": [
      "<Response [200]>\n"
     ]
    }
   ],
   "source": [
    "req = requests.get(url, headers=headers)\n",
    "print(req)"
   ]
  },
  {
   "cell_type": "markdown",
   "id": "7a224847",
   "metadata": {},
   "source": [
    "### Get Data"
   ]
  },
  {
   "cell_type": "code",
   "execution_count": 39,
   "id": "e1aeb010",
   "metadata": {},
   "outputs": [
    {
     "name": "stdout",
     "output_type": "stream",
     "text": [
      "scraping page : 1\n",
      "scraping page : 2\n",
      "scraping page : 3\n",
      "scraping page : 4\n",
      "scraping page : 5\n",
      "scraping page : 6\n",
      "scraping page : 7\n",
      "scraping page : 8\n",
      "scraping page : 9\n",
      "scraping page : 10\n"
     ]
    }
   ],
   "source": [
    "# Inspect element\n",
    "dataset = []\n",
    "count_page = 0\n",
    "for page in range(1,11):\n",
    "    count_page+=1\n",
    "    print('scraping page :',count_page)\n",
    "    req = requests.get(url+str(page), headers=headers)\n",
    "    soup = BeautifulSoup(req.text, 'html.parser')\n",
    "    items = soup.findAll('div', 'row ListingCell-row ListingCell-agent-redesign')\n",
    "    for item in items:\n",
    "        try :\n",
    "            address = item.find('div', 'ListingCell-KeyInfo-address ellipsis').text.strip()\n",
    "        except :\n",
    "            address = ''\n",
    "        try :\n",
    "            price = item.find('span', 'PriceSection-FirstPrice').text.strip()\n",
    "        except :\n",
    "            price = ''\n",
    "        try :\n",
    "            detail = ''.join(item.find('div', 'ListingCell-keyInfo-details').text.strip().split('\\n'))\n",
    "        except :\n",
    "            detail = ''\n",
    "        dataset.append([address, price, detail])\n",
    "        \n",
    "    \n",
    "head = ['Address', 'Price', 'Details']\n",
    "writer = csv.writer(open('test_residents.csv', 'w', newline=''))\n",
    "writer.writerow(head)\n",
    "for d in dataset:\n",
    "    writer.writerow(d)      "
   ]
  },
  {
   "cell_type": "markdown",
   "id": "34e44a68",
   "metadata": {},
   "source": [
    "#### Referensi : https://www.youtube.com/watch?v=YIiYeyfo7MM&t=1846s"
   ]
  },
  {
   "cell_type": "code",
   "execution_count": null,
   "id": "15c5ef61",
   "metadata": {},
   "outputs": [],
   "source": [
    "# Kalau ada error \"nontype : text\" -> ada data yang null => solusi pake try except"
   ]
  }
 ],
 "metadata": {
  "kernelspec": {
   "display_name": "Python 3 (ipykernel)",
   "language": "python",
   "name": "python3"
  },
  "language_info": {
   "codemirror_mode": {
    "name": "ipython",
    "version": 3
   },
   "file_extension": ".py",
   "mimetype": "text/x-python",
   "name": "python",
   "nbconvert_exporter": "python",
   "pygments_lexer": "ipython3",
   "version": "3.10.2"
  }
 },
 "nbformat": 4,
 "nbformat_minor": 5
}
